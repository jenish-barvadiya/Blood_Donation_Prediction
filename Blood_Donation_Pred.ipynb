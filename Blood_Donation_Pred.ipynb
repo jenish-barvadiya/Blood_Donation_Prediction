{
 "cells": [
  {
   "cell_type": "markdown",
   "id": "a6c04720-2518-4d1a-ab13-bf073bc1760b",
   "metadata": {},
   "source": [
    "# Blood Donation Predict"
   ]
  },
  {
   "cell_type": "markdown",
   "id": "5151c226-7064-4f8f-a98e-fb0ec1df20eb",
   "metadata": {},
   "source": [
    "## Domain Analysis"
   ]
  },
  {
   "cell_type": "code",
   "execution_count": 1,
   "id": "93209bcf-32f0-4ba3-b962-fd3ce31b8a6d",
   "metadata": {},
   "outputs": [],
   "source": [
    "import numpy as np # for numerical operations\n",
    "import pandas as pd # for data manipulation and analysis\n",
    "import matplotlib.pyplot as plt # for data visualization\n",
    "import seaborn as sns # for statistical data visualization\n",
    "import warnings\n",
    "warnings.filterwarnings(\"ignore\") # to ignore warning messages"
   ]
  },
  {
   "cell_type": "code",
   "execution_count": 2,
   "id": "55ddd806-0187-46ec-a451-a06b9b659f94",
   "metadata": {},
   "outputs": [],
   "source": [
    "df = pd.read_excel(\"Warm_Up_Predict_Blood_Donations_-_Traning_Data.xlsx\") # load dataset"
   ]
  },
  {
   "cell_type": "code",
   "execution_count": 3,
   "id": "8870aacf-140f-439c-9c49-a1e43cddebee",
   "metadata": {},
   "outputs": [
    {
     "data": {
      "text/html": [
       "<div>\n",
       "<style scoped>\n",
       "    .dataframe tbody tr th:only-of-type {\n",
       "        vertical-align: middle;\n",
       "    }\n",
       "\n",
       "    .dataframe tbody tr th {\n",
       "        vertical-align: top;\n",
       "    }\n",
       "\n",
       "    .dataframe thead th {\n",
       "        text-align: right;\n",
       "    }\n",
       "</style>\n",
       "<table border=\"1\" class=\"dataframe\">\n",
       "  <thead>\n",
       "    <tr style=\"text-align: right;\">\n",
       "      <th></th>\n",
       "      <th>Unnamed: 0</th>\n",
       "      <th>Months since Last Donation</th>\n",
       "      <th>Number of Donations</th>\n",
       "      <th>Total Volume Donated (c.c.)</th>\n",
       "      <th>Months since First Donation</th>\n",
       "      <th>Made Donation in March 2007</th>\n",
       "    </tr>\n",
       "  </thead>\n",
       "  <tbody>\n",
       "    <tr>\n",
       "      <th>0</th>\n",
       "      <td>619</td>\n",
       "      <td>2</td>\n",
       "      <td>50</td>\n",
       "      <td>12500</td>\n",
       "      <td>98</td>\n",
       "      <td>1</td>\n",
       "    </tr>\n",
       "    <tr>\n",
       "      <th>1</th>\n",
       "      <td>664</td>\n",
       "      <td>0</td>\n",
       "      <td>13</td>\n",
       "      <td>3250</td>\n",
       "      <td>28</td>\n",
       "      <td>1</td>\n",
       "    </tr>\n",
       "    <tr>\n",
       "      <th>2</th>\n",
       "      <td>441</td>\n",
       "      <td>1</td>\n",
       "      <td>16</td>\n",
       "      <td>4000</td>\n",
       "      <td>35</td>\n",
       "      <td>1</td>\n",
       "    </tr>\n",
       "    <tr>\n",
       "      <th>3</th>\n",
       "      <td>160</td>\n",
       "      <td>2</td>\n",
       "      <td>20</td>\n",
       "      <td>5000</td>\n",
       "      <td>45</td>\n",
       "      <td>1</td>\n",
       "    </tr>\n",
       "    <tr>\n",
       "      <th>4</th>\n",
       "      <td>358</td>\n",
       "      <td>1</td>\n",
       "      <td>24</td>\n",
       "      <td>6000</td>\n",
       "      <td>77</td>\n",
       "      <td>0</td>\n",
       "    </tr>\n",
       "    <tr>\n",
       "      <th>...</th>\n",
       "      <td>...</td>\n",
       "      <td>...</td>\n",
       "      <td>...</td>\n",
       "      <td>...</td>\n",
       "      <td>...</td>\n",
       "      <td>...</td>\n",
       "    </tr>\n",
       "    <tr>\n",
       "      <th>571</th>\n",
       "      <td>698</td>\n",
       "      <td>23</td>\n",
       "      <td>1</td>\n",
       "      <td>250</td>\n",
       "      <td>23</td>\n",
       "      <td>0</td>\n",
       "    </tr>\n",
       "    <tr>\n",
       "      <th>572</th>\n",
       "      <td>433</td>\n",
       "      <td>16</td>\n",
       "      <td>3</td>\n",
       "      <td>750</td>\n",
       "      <td>86</td>\n",
       "      <td>0</td>\n",
       "    </tr>\n",
       "    <tr>\n",
       "      <th>573</th>\n",
       "      <td>360</td>\n",
       "      <td>21</td>\n",
       "      <td>2</td>\n",
       "      <td>500</td>\n",
       "      <td>52</td>\n",
       "      <td>0</td>\n",
       "    </tr>\n",
       "    <tr>\n",
       "      <th>574</th>\n",
       "      <td>541</td>\n",
       "      <td>39</td>\n",
       "      <td>1</td>\n",
       "      <td>250</td>\n",
       "      <td>39</td>\n",
       "      <td>0</td>\n",
       "    </tr>\n",
       "    <tr>\n",
       "      <th>575</th>\n",
       "      <td>74</td>\n",
       "      <td>72</td>\n",
       "      <td>1</td>\n",
       "      <td>250</td>\n",
       "      <td>72</td>\n",
       "      <td>0</td>\n",
       "    </tr>\n",
       "  </tbody>\n",
       "</table>\n",
       "<p>576 rows × 6 columns</p>\n",
       "</div>"
      ],
      "text/plain": [
       "     Unnamed: 0  Months since Last Donation  Number of Donations  \\\n",
       "0           619                           2                   50   \n",
       "1           664                           0                   13   \n",
       "2           441                           1                   16   \n",
       "3           160                           2                   20   \n",
       "4           358                           1                   24   \n",
       "..          ...                         ...                  ...   \n",
       "571         698                          23                    1   \n",
       "572         433                          16                    3   \n",
       "573         360                          21                    2   \n",
       "574         541                          39                    1   \n",
       "575          74                          72                    1   \n",
       "\n",
       "     Total Volume Donated (c.c.)  Months since First Donation  \\\n",
       "0                          12500                           98   \n",
       "1                           3250                           28   \n",
       "2                           4000                           35   \n",
       "3                           5000                           45   \n",
       "4                           6000                           77   \n",
       "..                           ...                          ...   \n",
       "571                          250                           23   \n",
       "572                          750                           86   \n",
       "573                          500                           52   \n",
       "574                          250                           39   \n",
       "575                          250                           72   \n",
       "\n",
       "     Made Donation in March 2007  \n",
       "0                              1  \n",
       "1                              1  \n",
       "2                              1  \n",
       "3                              1  \n",
       "4                              0  \n",
       "..                           ...  \n",
       "571                            0  \n",
       "572                            0  \n",
       "573                            0  \n",
       "574                            0  \n",
       "575                            0  \n",
       "\n",
       "[576 rows x 6 columns]"
      ]
     },
     "execution_count": 3,
     "metadata": {},
     "output_type": "execute_result"
    }
   ],
   "source": [
    "df"
   ]
  },
  {
   "cell_type": "code",
   "execution_count": null,
   "id": "981d9ed0-fedf-41fc-973b-78abf919d217",
   "metadata": {},
   "outputs": [],
   "source": []
  },
  {
   "cell_type": "code",
   "execution_count": 4,
   "id": "7bab8bc6-0fd2-4dd9-ba36-84d7439b7b79",
   "metadata": {},
   "outputs": [
    {
     "data": {
      "text/html": [
       "<div>\n",
       "<style scoped>\n",
       "    .dataframe tbody tr th:only-of-type {\n",
       "        vertical-align: middle;\n",
       "    }\n",
       "\n",
       "    .dataframe tbody tr th {\n",
       "        vertical-align: top;\n",
       "    }\n",
       "\n",
       "    .dataframe thead th {\n",
       "        text-align: right;\n",
       "    }\n",
       "</style>\n",
       "<table border=\"1\" class=\"dataframe\">\n",
       "  <thead>\n",
       "    <tr style=\"text-align: right;\">\n",
       "      <th></th>\n",
       "      <th>Unnamed: 0</th>\n",
       "      <th>Months since Last Donation</th>\n",
       "      <th>Number of Donations</th>\n",
       "      <th>Total Volume Donated (c.c.)</th>\n",
       "      <th>Months since First Donation</th>\n",
       "      <th>Made Donation in March 2007</th>\n",
       "    </tr>\n",
       "  </thead>\n",
       "  <tbody>\n",
       "    <tr>\n",
       "      <th>0</th>\n",
       "      <td>619</td>\n",
       "      <td>2</td>\n",
       "      <td>50</td>\n",
       "      <td>12500</td>\n",
       "      <td>98</td>\n",
       "      <td>1</td>\n",
       "    </tr>\n",
       "    <tr>\n",
       "      <th>1</th>\n",
       "      <td>664</td>\n",
       "      <td>0</td>\n",
       "      <td>13</td>\n",
       "      <td>3250</td>\n",
       "      <td>28</td>\n",
       "      <td>1</td>\n",
       "    </tr>\n",
       "    <tr>\n",
       "      <th>2</th>\n",
       "      <td>441</td>\n",
       "      <td>1</td>\n",
       "      <td>16</td>\n",
       "      <td>4000</td>\n",
       "      <td>35</td>\n",
       "      <td>1</td>\n",
       "    </tr>\n",
       "    <tr>\n",
       "      <th>3</th>\n",
       "      <td>160</td>\n",
       "      <td>2</td>\n",
       "      <td>20</td>\n",
       "      <td>5000</td>\n",
       "      <td>45</td>\n",
       "      <td>1</td>\n",
       "    </tr>\n",
       "    <tr>\n",
       "      <th>4</th>\n",
       "      <td>358</td>\n",
       "      <td>1</td>\n",
       "      <td>24</td>\n",
       "      <td>6000</td>\n",
       "      <td>77</td>\n",
       "      <td>0</td>\n",
       "    </tr>\n",
       "  </tbody>\n",
       "</table>\n",
       "</div>"
      ],
      "text/plain": [
       "   Unnamed: 0  Months since Last Donation  Number of Donations  \\\n",
       "0         619                           2                   50   \n",
       "1         664                           0                   13   \n",
       "2         441                           1                   16   \n",
       "3         160                           2                   20   \n",
       "4         358                           1                   24   \n",
       "\n",
       "   Total Volume Donated (c.c.)  Months since First Donation  \\\n",
       "0                        12500                           98   \n",
       "1                         3250                           28   \n",
       "2                         4000                           35   \n",
       "3                         5000                           45   \n",
       "4                         6000                           77   \n",
       "\n",
       "   Made Donation in March 2007  \n",
       "0                            1  \n",
       "1                            1  \n",
       "2                            1  \n",
       "3                            1  \n",
       "4                            0  "
      ]
     },
     "execution_count": 4,
     "metadata": {},
     "output_type": "execute_result"
    }
   ],
   "source": [
    "df.head() # preview first 5 raws of the feature dataset"
   ]
  },
  {
   "cell_type": "code",
   "execution_count": 5,
   "id": "7739a101-5365-49d6-97e0-22f66a4a442e",
   "metadata": {},
   "outputs": [
    {
     "data": {
      "text/html": [
       "<div>\n",
       "<style scoped>\n",
       "    .dataframe tbody tr th:only-of-type {\n",
       "        vertical-align: middle;\n",
       "    }\n",
       "\n",
       "    .dataframe tbody tr th {\n",
       "        vertical-align: top;\n",
       "    }\n",
       "\n",
       "    .dataframe thead th {\n",
       "        text-align: right;\n",
       "    }\n",
       "</style>\n",
       "<table border=\"1\" class=\"dataframe\">\n",
       "  <thead>\n",
       "    <tr style=\"text-align: right;\">\n",
       "      <th></th>\n",
       "      <th>Unnamed: 0</th>\n",
       "      <th>Months since Last Donation</th>\n",
       "      <th>Number of Donations</th>\n",
       "      <th>Total Volume Donated (c.c.)</th>\n",
       "      <th>Months since First Donation</th>\n",
       "      <th>Made Donation in March 2007</th>\n",
       "    </tr>\n",
       "  </thead>\n",
       "  <tbody>\n",
       "    <tr>\n",
       "      <th>571</th>\n",
       "      <td>698</td>\n",
       "      <td>23</td>\n",
       "      <td>1</td>\n",
       "      <td>250</td>\n",
       "      <td>23</td>\n",
       "      <td>0</td>\n",
       "    </tr>\n",
       "    <tr>\n",
       "      <th>572</th>\n",
       "      <td>433</td>\n",
       "      <td>16</td>\n",
       "      <td>3</td>\n",
       "      <td>750</td>\n",
       "      <td>86</td>\n",
       "      <td>0</td>\n",
       "    </tr>\n",
       "    <tr>\n",
       "      <th>573</th>\n",
       "      <td>360</td>\n",
       "      <td>21</td>\n",
       "      <td>2</td>\n",
       "      <td>500</td>\n",
       "      <td>52</td>\n",
       "      <td>0</td>\n",
       "    </tr>\n",
       "    <tr>\n",
       "      <th>574</th>\n",
       "      <td>541</td>\n",
       "      <td>39</td>\n",
       "      <td>1</td>\n",
       "      <td>250</td>\n",
       "      <td>39</td>\n",
       "      <td>0</td>\n",
       "    </tr>\n",
       "    <tr>\n",
       "      <th>575</th>\n",
       "      <td>74</td>\n",
       "      <td>72</td>\n",
       "      <td>1</td>\n",
       "      <td>250</td>\n",
       "      <td>72</td>\n",
       "      <td>0</td>\n",
       "    </tr>\n",
       "  </tbody>\n",
       "</table>\n",
       "</div>"
      ],
      "text/plain": [
       "     Unnamed: 0  Months since Last Donation  Number of Donations  \\\n",
       "571         698                          23                    1   \n",
       "572         433                          16                    3   \n",
       "573         360                          21                    2   \n",
       "574         541                          39                    1   \n",
       "575          74                          72                    1   \n",
       "\n",
       "     Total Volume Donated (c.c.)  Months since First Donation  \\\n",
       "571                          250                           23   \n",
       "572                          750                           86   \n",
       "573                          500                           52   \n",
       "574                          250                           39   \n",
       "575                          250                           72   \n",
       "\n",
       "     Made Donation in March 2007  \n",
       "571                            0  \n",
       "572                            0  \n",
       "573                            0  \n",
       "574                            0  \n",
       "575                            0  "
      ]
     },
     "execution_count": 5,
     "metadata": {},
     "output_type": "execute_result"
    }
   ],
   "source": [
    "df.tail() # preview last 5 raws of the feature dataset"
   ]
  },
  {
   "cell_type": "code",
   "execution_count": 6,
   "id": "7ab7dbaf-b214-4fd5-9b86-86c0ae93454b",
   "metadata": {},
   "outputs": [
    {
     "data": {
      "text/html": [
       "<div>\n",
       "<style scoped>\n",
       "    .dataframe tbody tr th:only-of-type {\n",
       "        vertical-align: middle;\n",
       "    }\n",
       "\n",
       "    .dataframe tbody tr th {\n",
       "        vertical-align: top;\n",
       "    }\n",
       "\n",
       "    .dataframe thead th {\n",
       "        text-align: right;\n",
       "    }\n",
       "</style>\n",
       "<table border=\"1\" class=\"dataframe\">\n",
       "  <thead>\n",
       "    <tr style=\"text-align: right;\">\n",
       "      <th></th>\n",
       "      <th>Unnamed: 0</th>\n",
       "      <th>Months since Last Donation</th>\n",
       "      <th>Number of Donations</th>\n",
       "      <th>Total Volume Donated (c.c.)</th>\n",
       "      <th>Months since First Donation</th>\n",
       "      <th>Made Donation in March 2007</th>\n",
       "    </tr>\n",
       "  </thead>\n",
       "  <tbody>\n",
       "    <tr>\n",
       "      <th>count</th>\n",
       "      <td>576.000000</td>\n",
       "      <td>576.000000</td>\n",
       "      <td>576.000000</td>\n",
       "      <td>576.000000</td>\n",
       "      <td>576.000000</td>\n",
       "      <td>576.000000</td>\n",
       "    </tr>\n",
       "    <tr>\n",
       "      <th>mean</th>\n",
       "      <td>374.034722</td>\n",
       "      <td>9.439236</td>\n",
       "      <td>5.427083</td>\n",
       "      <td>1356.770833</td>\n",
       "      <td>34.050347</td>\n",
       "      <td>0.239583</td>\n",
       "    </tr>\n",
       "    <tr>\n",
       "      <th>std</th>\n",
       "      <td>216.947773</td>\n",
       "      <td>8.175454</td>\n",
       "      <td>5.740010</td>\n",
       "      <td>1435.002556</td>\n",
       "      <td>24.227672</td>\n",
       "      <td>0.427200</td>\n",
       "    </tr>\n",
       "    <tr>\n",
       "      <th>min</th>\n",
       "      <td>0.000000</td>\n",
       "      <td>0.000000</td>\n",
       "      <td>1.000000</td>\n",
       "      <td>250.000000</td>\n",
       "      <td>2.000000</td>\n",
       "      <td>0.000000</td>\n",
       "    </tr>\n",
       "    <tr>\n",
       "      <th>25%</th>\n",
       "      <td>183.750000</td>\n",
       "      <td>2.000000</td>\n",
       "      <td>2.000000</td>\n",
       "      <td>500.000000</td>\n",
       "      <td>16.000000</td>\n",
       "      <td>0.000000</td>\n",
       "    </tr>\n",
       "    <tr>\n",
       "      <th>50%</th>\n",
       "      <td>375.500000</td>\n",
       "      <td>7.000000</td>\n",
       "      <td>4.000000</td>\n",
       "      <td>1000.000000</td>\n",
       "      <td>28.000000</td>\n",
       "      <td>0.000000</td>\n",
       "    </tr>\n",
       "    <tr>\n",
       "      <th>75%</th>\n",
       "      <td>562.500000</td>\n",
       "      <td>14.000000</td>\n",
       "      <td>7.000000</td>\n",
       "      <td>1750.000000</td>\n",
       "      <td>49.250000</td>\n",
       "      <td>0.000000</td>\n",
       "    </tr>\n",
       "    <tr>\n",
       "      <th>max</th>\n",
       "      <td>747.000000</td>\n",
       "      <td>74.000000</td>\n",
       "      <td>50.000000</td>\n",
       "      <td>12500.000000</td>\n",
       "      <td>98.000000</td>\n",
       "      <td>1.000000</td>\n",
       "    </tr>\n",
       "  </tbody>\n",
       "</table>\n",
       "</div>"
      ],
      "text/plain": [
       "       Unnamed: 0  Months since Last Donation  Number of Donations  \\\n",
       "count  576.000000                  576.000000           576.000000   \n",
       "mean   374.034722                    9.439236             5.427083   \n",
       "std    216.947773                    8.175454             5.740010   \n",
       "min      0.000000                    0.000000             1.000000   \n",
       "25%    183.750000                    2.000000             2.000000   \n",
       "50%    375.500000                    7.000000             4.000000   \n",
       "75%    562.500000                   14.000000             7.000000   \n",
       "max    747.000000                   74.000000            50.000000   \n",
       "\n",
       "       Total Volume Donated (c.c.)  Months since First Donation  \\\n",
       "count                   576.000000                   576.000000   \n",
       "mean                   1356.770833                    34.050347   \n",
       "std                    1435.002556                    24.227672   \n",
       "min                     250.000000                     2.000000   \n",
       "25%                     500.000000                    16.000000   \n",
       "50%                    1000.000000                    28.000000   \n",
       "75%                    1750.000000                    49.250000   \n",
       "max                   12500.000000                    98.000000   \n",
       "\n",
       "       Made Donation in March 2007  \n",
       "count                   576.000000  \n",
       "mean                      0.239583  \n",
       "std                       0.427200  \n",
       "min                       0.000000  \n",
       "25%                       0.000000  \n",
       "50%                       0.000000  \n",
       "75%                       0.000000  \n",
       "max                       1.000000  "
      ]
     },
     "execution_count": 6,
     "metadata": {},
     "output_type": "execute_result"
    }
   ],
   "source": [
    "### It show the statistical information of data.\n",
    "df.describe() # get statistical summary of numerical columns # summary statistics for numeric columns"
   ]
  },
  {
   "cell_type": "code",
   "execution_count": 7,
   "id": "fd2fa0d2-7716-48dc-917f-493676850fec",
   "metadata": {},
   "outputs": [
    {
     "name": "stdout",
     "output_type": "stream",
     "text": [
      "<class 'pandas.core.frame.DataFrame'>\n",
      "RangeIndex: 576 entries, 0 to 575\n",
      "Data columns (total 6 columns):\n",
      " #   Column                       Non-Null Count  Dtype\n",
      "---  ------                       --------------  -----\n",
      " 0   Unnamed: 0                   576 non-null    int64\n",
      " 1   Months since Last Donation   576 non-null    int64\n",
      " 2   Number of Donations          576 non-null    int64\n",
      " 3   Total Volume Donated (c.c.)  576 non-null    int64\n",
      " 4   Months since First Donation  576 non-null    int64\n",
      " 5   Made Donation in March 2007  576 non-null    int64\n",
      "dtypes: int64(6)\n",
      "memory usage: 27.1 KB\n"
     ]
    }
   ],
   "source": [
    "## Display summary information about the DataFrame.\n",
    "df.info() # display summary of dataset including column data types and non-null values # display dataset structure including types and nulls"
   ]
  },
  {
   "cell_type": "code",
   "execution_count": 8,
   "id": "1ed630d4-d232-4939-bef8-2f8e1caa432a",
   "metadata": {},
   "outputs": [],
   "source": [
    "df.drop('Unnamed: 0',axis=1,inplace=True)"
   ]
  },
  {
   "cell_type": "code",
   "execution_count": 9,
   "id": "2e565201-330d-4a70-bdf4-b48d6cd9c42c",
   "metadata": {},
   "outputs": [
    {
     "data": {
      "text/html": [
       "<div>\n",
       "<style scoped>\n",
       "    .dataframe tbody tr th:only-of-type {\n",
       "        vertical-align: middle;\n",
       "    }\n",
       "\n",
       "    .dataframe tbody tr th {\n",
       "        vertical-align: top;\n",
       "    }\n",
       "\n",
       "    .dataframe thead th {\n",
       "        text-align: right;\n",
       "    }\n",
       "</style>\n",
       "<table border=\"1\" class=\"dataframe\">\n",
       "  <thead>\n",
       "    <tr style=\"text-align: right;\">\n",
       "      <th></th>\n",
       "      <th>Months since Last Donation</th>\n",
       "      <th>Number of Donations</th>\n",
       "      <th>Total Volume Donated (c.c.)</th>\n",
       "      <th>Months since First Donation</th>\n",
       "      <th>Made Donation in March 2007</th>\n",
       "    </tr>\n",
       "  </thead>\n",
       "  <tbody>\n",
       "    <tr>\n",
       "      <th>0</th>\n",
       "      <td>2</td>\n",
       "      <td>50</td>\n",
       "      <td>12500</td>\n",
       "      <td>98</td>\n",
       "      <td>1</td>\n",
       "    </tr>\n",
       "    <tr>\n",
       "      <th>1</th>\n",
       "      <td>0</td>\n",
       "      <td>13</td>\n",
       "      <td>3250</td>\n",
       "      <td>28</td>\n",
       "      <td>1</td>\n",
       "    </tr>\n",
       "    <tr>\n",
       "      <th>2</th>\n",
       "      <td>1</td>\n",
       "      <td>16</td>\n",
       "      <td>4000</td>\n",
       "      <td>35</td>\n",
       "      <td>1</td>\n",
       "    </tr>\n",
       "    <tr>\n",
       "      <th>3</th>\n",
       "      <td>2</td>\n",
       "      <td>20</td>\n",
       "      <td>5000</td>\n",
       "      <td>45</td>\n",
       "      <td>1</td>\n",
       "    </tr>\n",
       "    <tr>\n",
       "      <th>4</th>\n",
       "      <td>1</td>\n",
       "      <td>24</td>\n",
       "      <td>6000</td>\n",
       "      <td>77</td>\n",
       "      <td>0</td>\n",
       "    </tr>\n",
       "    <tr>\n",
       "      <th>...</th>\n",
       "      <td>...</td>\n",
       "      <td>...</td>\n",
       "      <td>...</td>\n",
       "      <td>...</td>\n",
       "      <td>...</td>\n",
       "    </tr>\n",
       "    <tr>\n",
       "      <th>571</th>\n",
       "      <td>23</td>\n",
       "      <td>1</td>\n",
       "      <td>250</td>\n",
       "      <td>23</td>\n",
       "      <td>0</td>\n",
       "    </tr>\n",
       "    <tr>\n",
       "      <th>572</th>\n",
       "      <td>16</td>\n",
       "      <td>3</td>\n",
       "      <td>750</td>\n",
       "      <td>86</td>\n",
       "      <td>0</td>\n",
       "    </tr>\n",
       "    <tr>\n",
       "      <th>573</th>\n",
       "      <td>21</td>\n",
       "      <td>2</td>\n",
       "      <td>500</td>\n",
       "      <td>52</td>\n",
       "      <td>0</td>\n",
       "    </tr>\n",
       "    <tr>\n",
       "      <th>574</th>\n",
       "      <td>39</td>\n",
       "      <td>1</td>\n",
       "      <td>250</td>\n",
       "      <td>39</td>\n",
       "      <td>0</td>\n",
       "    </tr>\n",
       "    <tr>\n",
       "      <th>575</th>\n",
       "      <td>72</td>\n",
       "      <td>1</td>\n",
       "      <td>250</td>\n",
       "      <td>72</td>\n",
       "      <td>0</td>\n",
       "    </tr>\n",
       "  </tbody>\n",
       "</table>\n",
       "<p>576 rows × 5 columns</p>\n",
       "</div>"
      ],
      "text/plain": [
       "     Months since Last Donation  Number of Donations  \\\n",
       "0                             2                   50   \n",
       "1                             0                   13   \n",
       "2                             1                   16   \n",
       "3                             2                   20   \n",
       "4                             1                   24   \n",
       "..                          ...                  ...   \n",
       "571                          23                    1   \n",
       "572                          16                    3   \n",
       "573                          21                    2   \n",
       "574                          39                    1   \n",
       "575                          72                    1   \n",
       "\n",
       "     Total Volume Donated (c.c.)  Months since First Donation  \\\n",
       "0                          12500                           98   \n",
       "1                           3250                           28   \n",
       "2                           4000                           35   \n",
       "3                           5000                           45   \n",
       "4                           6000                           77   \n",
       "..                           ...                          ...   \n",
       "571                          250                           23   \n",
       "572                          750                           86   \n",
       "573                          500                           52   \n",
       "574                          250                           39   \n",
       "575                          250                           72   \n",
       "\n",
       "     Made Donation in March 2007  \n",
       "0                              1  \n",
       "1                              1  \n",
       "2                              1  \n",
       "3                              1  \n",
       "4                              0  \n",
       "..                           ...  \n",
       "571                            0  \n",
       "572                            0  \n",
       "573                            0  \n",
       "574                            0  \n",
       "575                            0  \n",
       "\n",
       "[576 rows x 5 columns]"
      ]
     },
     "execution_count": 9,
     "metadata": {},
     "output_type": "execute_result"
    }
   ],
   "source": [
    "df"
   ]
  },
  {
   "cell_type": "code",
   "execution_count": 10,
   "id": "49a8bac0-0a35-4cf3-82a6-235349e211e1",
   "metadata": {},
   "outputs": [],
   "source": [
    "df.rename(columns={\"Made Donation in March 2007\": \"Made_Donation_in_march_2007\"}, inplace=True)\n",
    "df.rename(columns={\"Months since Last Donation\": \"Months_since_Last_Donation\"}, inplace=True)\n",
    "df.rename(columns={\"Number of Donations\": \"Number_of_Donations\"}, inplace=True)\n",
    "df.rename(columns={\"Total Volume Donated (c.c.)\": \"Total_Volume_Donated_cc\"}, inplace=True)\n",
    "df.rename(columns={\"Months since First Donation\": \"Months_since_First_Donation\"}, inplace=True)"
   ]
  },
  {
   "cell_type": "code",
   "execution_count": 11,
   "id": "20bd0d5b-55aa-45d2-b38f-17cca5eedb29",
   "metadata": {},
   "outputs": [
    {
     "data": {
      "text/plain": [
       "Months_since_Last_Donation     0\n",
       "Number_of_Donations            0\n",
       "Total_Volume_Donated_cc        0\n",
       "Months_since_First_Donation    0\n",
       "Made_Donation_in_march_2007    0\n",
       "dtype: int64"
      ]
     },
     "execution_count": 11,
     "metadata": {},
     "output_type": "execute_result"
    }
   ],
   "source": [
    "df.isnull().sum()"
   ]
  },
  {
   "cell_type": "code",
   "execution_count": 12,
   "id": "3eedbb90-4af7-4193-a4cf-512bd5a72cdd",
   "metadata": {},
   "outputs": [
    {
     "data": {
      "text/plain": [
       "(576, 5)"
      ]
     },
     "execution_count": 12,
     "metadata": {},
     "output_type": "execute_result"
    }
   ],
   "source": [
    "df.shape"
   ]
  },
  {
   "cell_type": "code",
   "execution_count": 13,
   "id": "4659c6f3-94e9-4000-8bff-3d5c05a3c76e",
   "metadata": {
    "scrolled": true
   },
   "outputs": [
    {
     "data": {
      "text/html": [
       "<div>\n",
       "<style scoped>\n",
       "    .dataframe tbody tr th:only-of-type {\n",
       "        vertical-align: middle;\n",
       "    }\n",
       "\n",
       "    .dataframe tbody tr th {\n",
       "        vertical-align: top;\n",
       "    }\n",
       "\n",
       "    .dataframe thead th {\n",
       "        text-align: right;\n",
       "    }\n",
       "</style>\n",
       "<table border=\"1\" class=\"dataframe\">\n",
       "  <thead>\n",
       "    <tr style=\"text-align: right;\">\n",
       "      <th></th>\n",
       "      <th>Months_since_Last_Donation</th>\n",
       "      <th>Number_of_Donations</th>\n",
       "      <th>Total_Volume_Donated_cc</th>\n",
       "      <th>Months_since_First_Donation</th>\n",
       "      <th>Made_Donation_in_march_2007</th>\n",
       "    </tr>\n",
       "  </thead>\n",
       "  <tbody>\n",
       "    <tr>\n",
       "      <th>0</th>\n",
       "      <td>2</td>\n",
       "      <td>50</td>\n",
       "      <td>12500</td>\n",
       "      <td>98</td>\n",
       "      <td>1</td>\n",
       "    </tr>\n",
       "    <tr>\n",
       "      <th>1</th>\n",
       "      <td>0</td>\n",
       "      <td>13</td>\n",
       "      <td>3250</td>\n",
       "      <td>28</td>\n",
       "      <td>1</td>\n",
       "    </tr>\n",
       "    <tr>\n",
       "      <th>2</th>\n",
       "      <td>1</td>\n",
       "      <td>16</td>\n",
       "      <td>4000</td>\n",
       "      <td>35</td>\n",
       "      <td>1</td>\n",
       "    </tr>\n",
       "    <tr>\n",
       "      <th>3</th>\n",
       "      <td>2</td>\n",
       "      <td>20</td>\n",
       "      <td>5000</td>\n",
       "      <td>45</td>\n",
       "      <td>1</td>\n",
       "    </tr>\n",
       "    <tr>\n",
       "      <th>4</th>\n",
       "      <td>1</td>\n",
       "      <td>24</td>\n",
       "      <td>6000</td>\n",
       "      <td>77</td>\n",
       "      <td>0</td>\n",
       "    </tr>\n",
       "    <tr>\n",
       "      <th>...</th>\n",
       "      <td>...</td>\n",
       "      <td>...</td>\n",
       "      <td>...</td>\n",
       "      <td>...</td>\n",
       "      <td>...</td>\n",
       "    </tr>\n",
       "    <tr>\n",
       "      <th>571</th>\n",
       "      <td>23</td>\n",
       "      <td>1</td>\n",
       "      <td>250</td>\n",
       "      <td>23</td>\n",
       "      <td>0</td>\n",
       "    </tr>\n",
       "    <tr>\n",
       "      <th>572</th>\n",
       "      <td>16</td>\n",
       "      <td>3</td>\n",
       "      <td>750</td>\n",
       "      <td>86</td>\n",
       "      <td>0</td>\n",
       "    </tr>\n",
       "    <tr>\n",
       "      <th>573</th>\n",
       "      <td>21</td>\n",
       "      <td>2</td>\n",
       "      <td>500</td>\n",
       "      <td>52</td>\n",
       "      <td>0</td>\n",
       "    </tr>\n",
       "    <tr>\n",
       "      <th>574</th>\n",
       "      <td>39</td>\n",
       "      <td>1</td>\n",
       "      <td>250</td>\n",
       "      <td>39</td>\n",
       "      <td>0</td>\n",
       "    </tr>\n",
       "    <tr>\n",
       "      <th>575</th>\n",
       "      <td>72</td>\n",
       "      <td>1</td>\n",
       "      <td>250</td>\n",
       "      <td>72</td>\n",
       "      <td>0</td>\n",
       "    </tr>\n",
       "  </tbody>\n",
       "</table>\n",
       "<p>576 rows × 5 columns</p>\n",
       "</div>"
      ],
      "text/plain": [
       "     Months_since_Last_Donation  Number_of_Donations  Total_Volume_Donated_cc  \\\n",
       "0                             2                   50                    12500   \n",
       "1                             0                   13                     3250   \n",
       "2                             1                   16                     4000   \n",
       "3                             2                   20                     5000   \n",
       "4                             1                   24                     6000   \n",
       "..                          ...                  ...                      ...   \n",
       "571                          23                    1                      250   \n",
       "572                          16                    3                      750   \n",
       "573                          21                    2                      500   \n",
       "574                          39                    1                      250   \n",
       "575                          72                    1                      250   \n",
       "\n",
       "     Months_since_First_Donation  Made_Donation_in_march_2007  \n",
       "0                             98                            1  \n",
       "1                             28                            1  \n",
       "2                             35                            1  \n",
       "3                             45                            1  \n",
       "4                             77                            0  \n",
       "..                           ...                          ...  \n",
       "571                           23                            0  \n",
       "572                           86                            0  \n",
       "573                           52                            0  \n",
       "574                           39                            0  \n",
       "575                           72                            0  \n",
       "\n",
       "[576 rows x 5 columns]"
      ]
     },
     "execution_count": 13,
     "metadata": {},
     "output_type": "execute_result"
    }
   ],
   "source": [
    "df"
   ]
  },
  {
   "cell_type": "code",
   "execution_count": 14,
   "id": "25137b81-c512-4f37-bf19-fa8a65f27416",
   "metadata": {},
   "outputs": [
    {
     "data": {
      "image/png": "[encoded data removed]",
      "text/plain": [
       "<Figure size 2000x2500 with 5 Axes>"
      ]
     },
     "metadata": {},
     "output_type": "display_data"
    }
   ],
   "source": [
    "# Set plot style\n",
    "sns.set(style=\"whitegrid\")\n",
    "plt.figure(figsize=(20, 25)) # plotting using matplotlib\n",
    "\n",
    "num = 1\n",
    "\n",
    "for i in df:\n",
    "    plt.subplot(4,4,num) # plotting using matplotlib\n",
    "    if num <= 16:\n",
    "        sns.histplot(data=df[i], kde=True, color='skyblue')\n",
    "        if df[i].nunique() <= 10:\n",
    "            sns.countplot(data=df,x=i, palette='viridis') # plot the distribution of the target variable # count plot for class distribution\n",
    "        plt.title(f'Distribution of {i}') # plotting using matplotlib\n",
    "        plt.xlabel(i) # plotting using matplotlib\n",
    "        plt.ylabel('Count') # plotting using matplotlib\n",
    "    num += 1\n",
    "    \n",
    "plt.tight_layout() # plotting using matplotlib\n",
    "plt.show() # plotting using matplotlib"
   ]
  },
  {
   "cell_type": "markdown",
   "id": "f266dea0-b166-4910-a2ea-b51762470e25",
   "metadata": {},
   "source": [
    "### **Top Row (Continuous Variables)**\n",
    "\n",
    "1. **Months\\_since\\_Last\\_Donation**:\n",
    "\n",
    "   * **Right-skewed** distribution.\n",
    "   * Most donors donated recently (fewer months ago), with a sharp drop-off for longer intervals.\n",
    "   * Indicates a recency bias—most donors are recent.\n",
    "\n",
    "2. **Number\\_of\\_Donations**:\n",
    "\n",
    "   * Also right-skewed.\n",
    "   * Most donors gave fewer times; very few made a large number of donations.\n",
    "   * This shows donor engagement varies significantly.\n",
    "\n",
    "3. **Total\\_Volume\\_Donated\\_cc**:\n",
    "\n",
    "   * Distribution mirrors the number of donations (as it's likely correlated).\n",
    "   * Most values are low, a few high-volume donors present.\n",
    "\n",
    "4. **Months\\_since\\_First\\_Donation**:\n",
    "\n",
    "   * Moderate right skew.\n",
    "   * Many donors began donating within the last few years; fewer have been donating long-term.\n",
    "\n",
    "### **Bottom Row (Categorical / Target Variable)**\n",
    "\n",
    "5. **Made\\_Donation\\_in\\_March\\_2007**:\n",
    "\n",
    "   * Binary variable: `0` = did not donate in March 2007, `1` = did donate.\n",
    "   * **Class imbalance**: Majority class is 0 (did not donate).\n",
    "   * Important consideration for modeling—may require techniques like:\n",
    "\n",
    "     * Oversampling (e.g., SMOTE),\n",
    "     * Class weight adjustments,\n",
    "     * Evaluation with metrics like AUC or F1-score."
   ]
  },
  {
   "cell_type": "markdown",
   "id": "419d06ea-dcac-472e-97d9-6ea3d5945aea",
   "metadata": {},
   "source": [
    "## step 2 :- Bivariante analsis"
   ]
  },
  {
   "cell_type": "markdown",
   "id": "6360461e-232a-4c1d-889f-e7a95a2383e2",
   "metadata": {},
   "source": [
    " ##### Bivariate Analysis refers to plots between input variables and target variable.Analyze the relationship between two variables."
   ]
  },
  {
   "cell_type": "code",
   "execution_count": 15,
   "id": "f70cd550-6d68-4e9f-a993-6439f01a80a9",
   "metadata": {},
   "outputs": [
    {
     "data": {
      "image/png": "[encoded data removed]",
      "text/plain": [
       "<Figure size 640x480 with 1 Axes>"
      ]
     },
     "metadata": {},
     "output_type": "display_data"
    }
   ],
   "source": [
    "sns.countplot(data=df,x=df.Months_since_Last_Donation,hue=df.Made_Donation_in_march_2007,stat = 'count') # plot the distribution of the target variable # count plot for class distribution\n",
    "plt.show() # plotting using matplotlib"
   ]
  },
  {
   "cell_type": "code",
   "execution_count": 16,
   "id": "9a19d39f-96cb-4856-9ddb-f7ad65c10ddd",
   "metadata": {},
   "outputs": [
    {
     "data": {
      "text/plain": [
       "<Axes: xlabel='Number_of_Donations', ylabel='count'>"
      ]
     },
     "execution_count": 16,
     "metadata": {},
     "output_type": "execute_result"
    },
    {
     "data": {
      "image/png": "[encoded data removed]",
      "text/plain": [
       "<Figure size 640x480 with 1 Axes>"
      ]
     },
     "metadata": {},
     "output_type": "display_data"
    }
   ],
   "source": [
    "sns.countplot(data=df,x=df.Number_of_Donations,hue=df.Made_Donation_in_march_2007) # plot the distribution of the target variable # count plot for class distribution"
   ]
  },
  {
   "cell_type": "markdown",
   "id": "467cea06-ec64-4011-bf80-9e297caface8",
   "metadata": {},
   "source": [
    "## Step3 :- Multivariate Analysizing"
   ]
  },
  {
   "cell_type": "code",
   "execution_count": 17,
   "id": "222aafe2-e131-4748-9f73-99ac474a9491",
   "metadata": {},
   "outputs": [],
   "source": [
    "## Analyze the relationship in all columns."
   ]
  },
  {
   "cell_type": "code",
   "execution_count": 18,
   "id": "24a1f66d-0e61-4c0c-bb21-34919a9bbf0a",
   "metadata": {},
   "outputs": [
    {
     "name": "stderr",
     "output_type": "stream",
     "text": [
      "\n",
      "KeyboardInterrupt\n",
      "\n"
     ]
    },
    {
     "name": "stdout",
     "output_type": "stream",
     "text": [
      "Error in callback <function flush_figures at 0x0000019DDD539620> (for post_execute), with arguments args (),kwargs {}:\n"
     ]
    },
    {
     "name": "stderr",
     "output_type": "stream",
     "text": [
      "\n",
      "KeyboardInterrupt\n",
      "\n"
     ]
    }
   ],
   "source": [
    "sns.pairplot(df,hue=\"Made_Donation_in_march_2007\")"
   ]
  },
  {
   "cell_type": "markdown",
   "id": "120fa7e9-d692-4e7d-bc13-44153026a1d2",
   "metadata": {},
   "source": [
    "##  Exploratory Data Analysis: Pair Plot\n",
    "\n",
    "The pair plot below visualizes the relationships between the following variables:\n",
    "\n",
    "- `Months_since_Last_Donation`\n",
    "- `Number_of_Donations`\n",
    "- `Total_Volume_Donated_cc`\n",
    "- `Months_since_First_Donation`\n",
    "- `Made_Donation_in_March_2007` (Target: 1 = Yes, 0 = No)\n",
    "\n",
    "Each point is colored by the value of the target variable:\n",
    "- **Blue (0)**: Did not donate in March 2007\n",
    "- **Orange (1)**: Donated in March 2007\n",
    "\n",
    "---\n",
    "\n",
    "###  Observations:\n",
    "\n",
    "1. **Linear Relationship:**\n",
    "   - There is a perfect linear relationship between `Number_of_Donations` and `Total_Volume_Donated_cc`.\n",
    "   - This is expected since each donation is 250 cc.  \n",
    "     \\[\n",
    "     \\text{Total Volume Donated (cc)} = \\text{Number of Donations} \\times 250\n",
    "     \\]\n",
    "\n",
    "2. **Recent Donations Predict Future Donations:**\n",
    "   - Donors who made a donation in March 2007 tend to have lower values for `Months_since_Last_Donation`, indicating recent past donations are a strong indicator.\n",
    "\n",
    "3. **Longer Donation History:**\n",
    "   - A slight trend suggests that people who have been donating for a longer time (`Months_since_First_Donation`) are more likely to continue.\n",
    "\n",
    "4. **Frequent Donors More Likely to Return:**\n",
    "   - Higher values of `Number_of_Donations` also correlate positively with the likelihood of donating again.\n",
    "\n",
    "5. **Class Imbalance:**\n",
    "   - Visually, the orange dots (class 1) are fewer than the blue dots (class 0), indicating a **class imbalance** in the dataset."
   ]
  },
  {
   "cell_type": "markdown",
   "id": "0152ac7b-f112-4b52-ac4e-7ad7cd688fac",
   "metadata": {},
   "source": [
    "## 1) Data Preprocessing"
   ]
  },
  {
   "cell_type": "markdown",
   "id": "e6f4451a-9a44-4258-b565-58feb0505c86",
   "metadata": {},
   "source": [
    "* Data Preprocessing : It is cleaning, transforming, and organizing the data into a suitable structure."
   ]
  },
  {
   "cell_type": "code",
   "execution_count": null,
   "id": "cb2ff947-ea09-4390-b699-c150504dc550",
   "metadata": {},
   "outputs": [],
   "source": [
    "sns.boxplot(df.Number_of_Donations)"
   ]
  },
  {
   "cell_type": "code",
   "execution_count": null,
   "id": "5281d73e-19ed-4dc8-b566-e5dcc3aee1e2",
   "metadata": {
    "scrolled": true
   },
   "outputs": [],
   "source": [
    "df.loc[df['Number_of_Donations'] >= 15,'Number_of_Donations']"
   ]
  },
  {
   "cell_type": "code",
   "execution_count": null,
   "id": "e34ec0ca-e0bd-40ec-9e23-e29de9a1fa3d",
   "metadata": {
    "scrolled": true
   },
   "outputs": [],
   "source": [
    "sns.boxplot(df.Months_since_Last_Donation)"
   ]
  },
  {
   "cell_type": "code",
   "execution_count": null,
   "id": "c0e119a0-da94-41f6-a705-8342aa0d3745",
   "metadata": {},
   "outputs": [],
   "source": [
    "df.loc[df['Months_since_Last_Donation'] >= 30,'Months_since_Last_Donation']"
   ]
  },
  {
   "cell_type": "code",
   "execution_count": null,
   "id": "4d38d488-f47b-4f1c-832e-e839199eeb6d",
   "metadata": {},
   "outputs": [],
   "source": [
    "sns.boxplot(df.Total_Volume_Donated_cc)"
   ]
  },
  {
   "cell_type": "code",
   "execution_count": null,
   "id": "139d5a17-e489-44e0-a345-7860ece02747",
   "metadata": {},
   "outputs": [],
   "source": [
    "df.loc[df['Total_Volume_Donated_cc'] >= 3500,'Total_Volume_Donated_cc']"
   ]
  },
  {
   "cell_type": "code",
   "execution_count": null,
   "id": "35636745-bdcf-4ab2-8300-3ae97bbe0ab7",
   "metadata": {},
   "outputs": [],
   "source": [
    "sns.boxplot(df.Months_since_First_Donation)"
   ]
  },
  {
   "cell_type": "code",
   "execution_count": null,
   "id": "5ed1d179-b3d8-4728-8775-146e28dddfd2",
   "metadata": {},
   "outputs": [],
   "source": [
    "df.loc[df['Months_since_First_Donation'] >= 90,'Months_since_First_Donation']"
   ]
  },
  {
   "cell_type": "code",
   "execution_count": null,
   "id": "99fd4611-de64-46bb-b37f-4db6be0b7003",
   "metadata": {},
   "outputs": [],
   "source": [
    "df['Months_since_Last_Donation'] = df['Months_since_Last_Donation'].apply(lambda x:1 if x < 30 else(2 if x < 70 else 3))"
   ]
  },
  {
   "cell_type": "code",
   "execution_count": null,
   "id": "f2d98134-41ba-43ee-b520-2d73422463f4",
   "metadata": {},
   "outputs": [],
   "source": [
    "df['Number_of_Donations'] = df['Number_of_Donations'].apply(lambda x:1 if x < 15 else(2 if x < 40 else 3))"
   ]
  },
  {
   "cell_type": "code",
   "execution_count": null,
   "id": "83bfff4e-3e40-4f64-bfba-a172c4587e3e",
   "metadata": {},
   "outputs": [],
   "source": [
    "df['Total_Volume_Donated_cc'] = df['Total_Volume_Donated_cc'].apply(lambda x:1 if x < 3500 else(2 if x < 10000 else 3))"
   ]
  },
  {
   "cell_type": "code",
   "execution_count": null,
   "id": "6c820df2-8d5a-4fa4-93b4-d150f9fbb615",
   "metadata": {},
   "outputs": [],
   "source": [
    "df['Months_since_First_Donation'] = df['Months_since_First_Donation'].apply(lambda x:1 if x < 90 else(2 if x < 100 else 3))"
   ]
  },
  {
   "cell_type": "markdown",
   "id": "82c58c7d-c102-4a85-8e9f-1b66ac8fdf0e",
   "metadata": {},
   "source": [
    "# Rest Bivariante Analysis"
   ]
  },
  {
   "cell_type": "code",
   "execution_count": null,
   "id": "77183860-1de8-4eaa-872a-84aa4d871de3",
   "metadata": {},
   "outputs": [],
   "source": [
    "sns.countplot(data=df,x=df.Number_of_Donations,hue=df.Made_Donation_in_march_2007) # plot the distribution of the target variable # count plot for class distribution"
   ]
  },
  {
   "cell_type": "code",
   "execution_count": null,
   "id": "6c2d5d69-0a63-4ec7-8135-b0b640f9870a",
   "metadata": {},
   "outputs": [],
   "source": [
    "sns.countplot(data=df,x=df.Months_since_Last_Donation,hue=df.Made_Donation_in_march_2007) # plot the distribution of the target variable # count plot for class distribution"
   ]
  },
  {
   "cell_type": "code",
   "execution_count": null,
   "id": "2c4a6a89-da1e-4e73-bc7c-126bc91007e7",
   "metadata": {},
   "outputs": [],
   "source": [
    "sns.countplot(data=df,x=df.Months_since_First_Donation,hue=df.Made_Donation_in_march_2007) # plot the distribution of the target variable # count plot for class distribution"
   ]
  },
  {
   "cell_type": "code",
   "execution_count": null,
   "id": "040cd669-309a-4ce4-87cb-c18b4ad595dd",
   "metadata": {},
   "outputs": [],
   "source": [
    "sns.countplot(data=df,x=df.Total_Volume_Donated_cc,hue=df.Made_Donation_in_march_2007) # plot the distribution of the target variable # count plot for class distribution"
   ]
  },
  {
   "cell_type": "markdown",
   "id": "2b9fdb11-4942-450d-a33a-90dfcf1def27",
   "metadata": {},
   "source": [
    "##  Feature Selection"
   ]
  },
  {
   "cell_type": "markdown",
   "id": "adf78bbb-b662-4806-85f0-adfedba8ab6a",
   "metadata": {},
   "source": [
    "* Feature selection : Feature Selection is the process of relevant features from the original set of features in a dataset.The goal is to improve the performance of machine learning models by using only the most important features,which can reduce complexity,improve accuracy and speed up the training process."
   ]
  },
  {
   "cell_type": "code",
   "execution_count": null,
   "id": "9d066620-4bca-4826-9f30-595c8b38fcb9",
   "metadata": {},
   "outputs": [],
   "source": [
    "plt.figure           #increase plot size # plotting using matplotlib\n",
    "sns.heatmap(df.corr(),annot=True)"
   ]
  },
  {
   "cell_type": "markdown",
   "id": "1d3f56ca-d92e-4c8f-b409-3cd81ebe3521",
   "metadata": {},
   "source": [
    "## Correlation Heatmap Analysis\n",
    "\n",
    "The heatmap below shows the **Pearson correlation coefficients** between the numerical variables in the dataset. Correlation values range from **-1 to 1**:\n",
    "\n",
    "- **+1** → Perfect positive correlation\n",
    "- **-1** → Perfect negative correlation\n",
    "- **0** → No linear correlation\n",
    "\n",
    "---\n",
    "\n",
    "###  Observations:\n",
    "\n",
    "1. **High Correlation:**\n",
    "   - `Number_of_Donations` and `Total_Volume_Donated_cc`: **0.91**\n",
    "     - Strong positive correlation, as expected (each donation is 250 cc).\n",
    "   - `Months_since_First_Donation` and both `Number_of_Donations` & `Total_Volume_Donated_cc`: **0.47**\n",
    "     - Suggests donors with longer histories tend to donate more.\n",
    "\n",
    "2. **Target Correlation (`Made_Donation_in_march_2007`):**\n",
    "   - Correlation with `Number_of_Donations`: **0.13**\n",
    "   - Correlation with `Total_Volume_Donated_cc`: **0.14**\n",
    "   - Correlation with `Months_since_First_Donation`: **0.032**\n",
    "   - Correlation with `Months_since_Last_Donation`: **-0.045**\n",
    "     - Weak negative correlation: the longer since last donation, the less likely to donate again.\n",
    "\n",
    "3. **Weak Correlation with Target:**\n",
    "   - All features show **weak linear correlation** with the target.\n",
    "   - This suggests **non-linear models** (e.g., Random Forest, Gradient Boosting) may perform better than linear models.\n",
    "\n",
    "---\n",
    "\n",
    "### Insights:\n",
    "\n",
    "- `Total_Volume_Donated_cc` is **redundant** and can be dropped (highly correlated with `Number_of_Donations`).\n",
    "- Consider **non-linear models** and **feature engineering** to capture deeper patterns.\n",
    "- Class imbalance and weak correlations hint that **simple models may underperform** without additional techniques.\n",
    "\n"
   ]
  },
  {
   "cell_type": "code",
   "execution_count": null,
   "id": "dff03fa7-1e0f-4596-94f7-42e31e89451f",
   "metadata": {},
   "outputs": [],
   "source": [
    "# corrlation : identifying highly correlated fetures and removing one of them.\n",
    "df.corr()  #check corrlation # compute pairwise correlation between features # compute correlations between numerical columns"
   ]
  },
  {
   "cell_type": "code",
   "execution_count": null,
   "id": "3ca8784f-915f-4ce3-9df7-24dae583d47f",
   "metadata": {},
   "outputs": [],
   "source": [
    "## step 4 : feature scaling\n",
    "from sklearn.preprocessing import StandardScaler   #importing StandardScaler from preprocessing # import StandardScaler for feature scaling\n",
    "Scaler= StandardScaler() # Define the StandardScaler object # import StandardScaler for feature scaling"
   ]
  },
  {
   "cell_type": "code",
   "execution_count": null,
   "id": "d329f710-6dfc-475d-ad07-4f002dbf2afd",
   "metadata": {},
   "outputs": [],
   "source": [
    "x = df.drop('Made_Donation_in_march_2007',axis=1)\n",
    "y = df.Made_Donation_in_march_2007"
   ]
  },
  {
   "cell_type": "code",
   "execution_count": null,
   "id": "908b9fa3-7aa5-499f-84af-e02c037028aa",
   "metadata": {},
   "outputs": [],
   "source": [
    "y"
   ]
  },
  {
   "cell_type": "code",
   "execution_count": null,
   "id": "dfe1ec2c-d0d0-4e27-b305-98daf4077940",
   "metadata": {},
   "outputs": [],
   "source": [
    "x= Scaler.fit_transform(x)  # fit and transform the training data"
   ]
  },
  {
   "cell_type": "code",
   "execution_count": null,
   "id": "b48b35a6-8992-4581-b6eb-dfd288ff2a45",
   "metadata": {},
   "outputs": [],
   "source": [
    "x"
   ]
  },
  {
   "cell_type": "code",
   "execution_count": null,
   "id": "4f4772ed-d7c7-4922-b51a-ce6cede82e1d",
   "metadata": {},
   "outputs": [],
   "source": [
    "from sklearn.model_selection import train_test_split   #import the train_test_split function from sklearn.model_selection # split the dataset into training and test sets\n",
    "x_train,x_test,y_train,y_test=train_test_split(x,y,test_size=0.25,random_state=4)   #Split the dataset into training and testing sets # split the dataset into training and test sets\n",
    "\n",
    "## test_size=0.25: 25% of the data will be used for testing"
   ]
  },
  {
   "cell_type": "code",
   "execution_count": null,
   "id": "80f51201-2e9d-4bdf-b47a-4481c8f346f5",
   "metadata": {
    "scrolled": true
   },
   "outputs": [],
   "source": [
    "x_test"
   ]
  },
  {
   "cell_type": "code",
   "execution_count": null,
   "id": "3d8fa663-b0db-4f70-b559-6e61bf2a76f4",
   "metadata": {},
   "outputs": [],
   "source": [
    "##creating training and test data\n",
    "from sklearn.model_selection import train_test_split\n",
    "x_train,x_test,y_train,y_test = train_test_split(x,y,test_size=0.2,random_state=33)"
   ]
  },
  {
   "cell_type": "code",
   "execution_count": null,
   "id": "c64b9775-77eb-402c-8b9f-c8c7debb0379",
   "metadata": {},
   "outputs": [],
   "source": [
    "## model creation\n",
    "from sklearn.neural_network import MLPClassifier\n",
    "model = MLPClassifier( hidden_layer_sizes=(50,3),\n",
    "                       learning_rate_init=0.1,\n",
    "                       max_iter=100,\n",
    "                       random_state=2) ## model object creation max_iter=Stopping parameter\n",
    "model.fit(x_train,y_train) ## training the data"
   ]
  },
  {
   "cell_type": "code",
   "execution_count": null,
   "id": "9b4c9897-4eb0-48c9-b97e-f035c6560002",
   "metadata": {},
   "outputs": [],
   "source": [
    "y_predict = model.predict(x_test)\n",
    "y_train_predict = model.predict(x_train)"
   ]
  },
  {
   "cell_type": "code",
   "execution_count": null,
   "id": "2453138e-eaf3-4e2c-b8d9-fca5ec292344",
   "metadata": {},
   "outputs": [],
   "source": [
    "## Evaluating the model created\n",
    "from sklearn.metrics import accuracy_score,confusion_matrix,classification_report\n",
    "print(\"Train accuracy :\",accuracy_score(y_train,y_train_predict))\n",
    "print(\"Test accuracy :\",accuracy_score(y_test,y_predict))"
   ]
  },
  {
   "cell_type": "code",
   "execution_count": null,
   "id": "fc367fcf-dc6c-4b8b-8637-954373ba3cb6",
   "metadata": {},
   "outputs": [],
   "source": [
    "x_train"
   ]
  },
  {
   "cell_type": "code",
   "execution_count": null,
   "id": "faee6b3d-5f51-434c-9681-03e409461a5b",
   "metadata": {
    "scrolled": true
   },
   "outputs": [],
   "source": [
    "x_test"
   ]
  },
  {
   "cell_type": "code",
   "execution_count": null,
   "id": "5d3bfb2b-6765-4d01-adea-709136e9f162",
   "metadata": {},
   "outputs": [],
   "source": [
    "y_train"
   ]
  },
  {
   "cell_type": "code",
   "execution_count": null,
   "id": "e2a542db-dfee-4580-b008-252f9a7d94a8",
   "metadata": {},
   "outputs": [],
   "source": [
    "y_test"
   ]
  },
  {
   "cell_type": "code",
   "execution_count": null,
   "id": "a1f980bd-a45c-4558-a6d4-db85a40c7b94",
   "metadata": {},
   "outputs": [],
   "source": [
    "from sklearn.linear_model import LogisticRegression # import classification model\n",
    "from sklearn.neighbors import KNeighborsClassifier # import classification model\n",
    "from sklearn.tree import DecisionTreeClassifier\n",
    "from sklearn.ensemble import RandomForestClassifier, GradientBoostingClassifier, AdaBoostClassifier, ExtraTreesClassifier # import classification model\n",
    "from sklearn.svm import SVC\n",
    "from sklearn.naive_bayes import GaussianNB\n",
    "from sklearn.neural_network import MLPClassifier"
   ]
  },
  {
   "cell_type": "code",
   "execution_count": null,
   "id": "b69b30be-d0a1-4267-8424-865247efec24",
   "metadata": {},
   "outputs": [],
   "source": [
    "from sklearn.metrics import confusion_matrix,accuracy_score,precision_score,classification_report,f1_score # evaluation metrics for classification model"
   ]
  },
  {
   "cell_type": "code",
   "execution_count": null,
   "id": "a1ff643a-2891-4657-b8aa-265714b1d591",
   "metadata": {},
   "outputs": [],
   "source": [
    "models = {  \"Logistic Regression\" : LogisticRegression(), # import classification model\n",
    "            \"K-Nearest Neighbors (KNN)\" :  KNeighborsClassifier(), # import classification model\n",
    "            \"Random Forest Classifier\" :  RandomForestClassifier(), # import classification model\n",
    "            \"Support Vector Machine\" :   SVC(),\n",
    "            \"Decision Tree Classifier\": DecisionTreeClassifier(),\n",
    "          \"Gradient Boosting Classifier\":GradientBoostingClassifier(),\n",
    "          \n",
    "           \"MLPClassifier\" : MLPClassifier(),\n",
    "            \"AdaBoost Classifier\" : AdaBoostClassifier(),\n",
    "            \"Extra Trees Classifier\" : ExtraTreesClassifier()\n",
    "}"
   ]
  },
  {
   "cell_type": "code",
   "execution_count": null,
   "id": "ba978335-4e5e-4063-8ce8-4346e86dee16",
   "metadata": {},
   "outputs": [],
   "source": [
    "a = accuracy_score # evaluation metrics for classification model\n",
    "p = precision_score\n",
    "f = f1_score\n",
    "def evaluate_model(true, predicted):\n",
    "    accuracy_score = a(true, predicted) # evaluation metrics for classification model\n",
    "    precision_score = p(true, predicted)\n",
    "    f1_score_score = f(true, predicted)\n",
    "    return accuracy_score,precision_score,f1_score_score # evaluation metrics for classification model"
   ]
  },
  {
   "cell_type": "code",
   "execution_count": null,
   "id": "8bb3c46d-05fe-458c-b5b2-75d0c28f55b7",
   "metadata": {
    "scrolled": true
   },
   "outputs": [],
   "source": [
    "model_list = []\n",
    "accuracy_score_list =[] # evaluation metrics for classification model\n",
    "\n",
    "for i in range(len(list(models))):\n",
    "    model = list(models.values())[i]\n",
    "    model.fit(x_train,y_train) # train the model with training data\n",
    "\n",
    "    #make prediction\n",
    "    y_train_pred = model.predict(x_train) # make predictions on the test set\n",
    "    y_test_pred = model.predict(x_test) # make predictions on the test set\n",
    "\n",
    "    #Evaluate Train and Test Dataset\n",
    "    model_train_accuracy_score,model_train_precision_score,model_train_f1_score_score = evaluate_model(y_train,y_train_pred) # evaluation metrics for classification model\n",
    "\n",
    "    model_test_accuracy_score,model_test_precision_score,model_test_f1_score_score = evaluate_model(y_test,y_test_pred) # evaluation metrics for classification model\n",
    "\n",
    "\n",
    "    print(list(models.keys())[i])\n",
    "    model_list.append(list(models.keys())[i])\n",
    "\n",
    "    from sklearn.metrics import classification_report # evaluation metrics for classification model\n",
    "    print('Model Performance foor training set')\n",
    "    print(\"- accuracy_score: {:.4f}\".format(model_train_accuracy_score)) # evaluation metrics for classification model\n",
    "    print(\"- precision_score: {:.4f}\".format(model_train_precision_score))\n",
    "    print(\"- f1_score_score: {:.4f}\".format(model_train_f1_score_score))\n",
    "\n",
    "    print('----------------------------------')\n",
    "    \n",
    "    print('Model performance for Test set')\n",
    "    print(\"- accuracy_score: {:.4f}\".format(model_test_accuracy_score)) # evaluation metrics for classification model\n",
    "    print(\"- precision_score: {:.4f}\".format(model_test_precision_score))\n",
    "    print(\"- f1_score_score: {:.4f}\".format(model_test_f1_score_score))\n",
    "    \n",
    "    accuracy_score_list.append(model_test_accuracy_score) # evaluation metrics for classification model\n",
    "\n",
    "    print('='*35)\n",
    "    print('\\n')"
   ]
  },
  {
   "cell_type": "code",
   "execution_count": null,
   "id": "0ffd4ad9-67b7-418f-aa26-33a4474ff25b",
   "metadata": {},
   "outputs": [],
   "source": [
    "score = pd.DataFrame(list(zip(model_list, accuracy_score_list)), columns=['Model Name', 'Accuracy_score']).sort_values(by=[\"Accuracy_score\"],ascending=False) # evaluation metrics for classification model"
   ]
  },
  {
   "cell_type": "code",
   "execution_count": null,
   "id": "7468d0f0-c1a9-422d-8cba-d1e6fdfa0c56",
   "metadata": {
    "scrolled": true
   },
   "outputs": [],
   "source": [
    "score"
   ]
  },
  {
   "cell_type": "code",
   "execution_count": null,
   "id": "5949168f-e908-4895-95be-f7a2c9376d04",
   "metadata": {},
   "outputs": [],
   "source": [
    "score.Accuracy_score = score.Accuracy_score*100"
   ]
  },
  {
   "cell_type": "code",
   "execution_count": null,
   "id": "214b7a01-0ac7-440a-a344-de035435fd97",
   "metadata": {},
   "outputs": [],
   "source": [
    "score"
   ]
  },
  {
   "cell_type": "code",
   "execution_count": null,
   "id": "33237d86-cc5d-4ed8-a1ba-d419bcdd6bef",
   "metadata": {},
   "outputs": [],
   "source": [
    "best_row = score.loc[score['Accuracy_score'].idxmax()]\n",
    "# Extract model name\n",
    "best_model_name = best_row['Model Name']\n",
    "print(f\"Best model: {best_model_name}\")\n",
    "\n",
    "# Get the corresponding trained model from your models dictionary\n",
    "best_model = models[best_model_name]"
   ]
  },
  {
   "cell_type": "code",
   "execution_count": null,
   "id": "b560e847-50cc-42e2-86f2-a64bf373d197",
   "metadata": {},
   "outputs": [],
   "source": [
    "plt.figure(figsize=(10, 6)) # plotting using matplotlib\n",
    "num = 0\n",
    "for i in score :\n",
    "    if num <= 7:\n",
    "        a = sns.barplot(x='Model Name', y='Accuracy_score', data=score,palette='viridis')\n",
    "        plt.title('R² Score Comparison of Models') # plotting using matplotlib\n",
    "        plt.xlabel('Model Name') # plotting using matplotlib\n",
    "        plt.ylabel('Accuracy score') # plotting using matplotlib\n",
    "        # plt.ylim(0, 1.1) # plotting using matplotlib\n",
    "        plt.xticks(rotation=90) # plotting using matplotlib\n",
    "        \n",
    "        for index,value in enumerate(score['Accuracy_score']):\n",
    "            a.text(index,value + 0.02 , f'{value:.2f}',ha='center')\n",
    "\n",
    "        num += 1\n",
    "\n",
    "plt.tight_layout() # plotting using matplotlib\n",
    "plt.show() # plotting using matplotlib"
   ]
  },
  {
   "cell_type": "code",
   "execution_count": null,
   "id": "5cc376aa-13dd-41f5-8dd1-dde3e3e5d113",
   "metadata": {},
   "outputs": [],
   "source": [
    "from sklearn.model_selection import GridSearchCV,RandomizedSearchCV\n",
    "from sklearn.tree import DecisionTreeClassifier   #importing decision tree from sklearn.tree"
   ]
  },
  {
   "cell_type": "code",
   "execution_count": null,
   "id": "e1bccd6d-faa9-484f-ac86-34a2b8c3f6c1",
   "metadata": {},
   "outputs": [],
   "source": [
    "params = {\n",
    "    \"criterion\":(\"gini\", \"entropy\"), #quality of split\n",
    "    \"splitter\":(\"best\", \"random\"), # searches the features for a split\n",
    "    \"max_depth\":(list(range(1, 15))), #depth of tree range from 1 to 19\n",
    "    \"min_samples_split\":[2, 3, 4,5,10],    #the minimum number of samples required to split internal node\n",
    "    \"min_samples_leaf\":list(range(1, 15)),#minimum number of samples required to be at a leaf node,we are passing list which is range from 1 to 19\n",
    "    }\n",
    "\n",
    "\n",
    "tree_clf = DecisionTreeClassifier()                # object creation for decision tree with random state 3\n",
    "tree_cv = GridSearchCV(tree_clf, params, scoring=\"f1\", n_jobs=-1, verbose=3, cv=3)\n",
    "\n",
    "tree_cv.fit(x_train,y_train)    # training data on gridsearch cv # train the model with training data\n",
    "best_params = tree_cv.best_params_    # it will give you best parameters\n",
    "print(f\"Best paramters: {best_params})\")   # printing  best parameters"
   ]
  },
  {
   "cell_type": "code",
   "execution_count": null,
   "id": "1b6f3f59-e9e5-4a37-bb70-f9880629ce05",
   "metadata": {},
   "outputs": [],
   "source": [
    "tree_cv.best_params_ "
   ]
  },
  {
   "cell_type": "code",
   "execution_count": null,
   "id": "18346a52-12a0-434d-9602-7672194333e0",
   "metadata": {},
   "outputs": [],
   "source": [
    "# passing best parameter to decision tree\n",
    "dt=DecisionTreeClassifier(criterion='gini',max_depth=2,min_samples_leaf= 6,min_samples_split=2,splitter='random')"
   ]
  },
  {
   "cell_type": "code",
   "execution_count": null,
   "id": "4e98161f-368d-47f0-916c-2232465e96ca",
   "metadata": {},
   "outputs": [],
   "source": [
    "dt.fit(x_train,y_train) # train the model with training data"
   ]
  },
  {
   "cell_type": "code",
   "execution_count": null,
   "id": "65281a3f-39ee-45c2-8d02-440d6c7d841b",
   "metadata": {},
   "outputs": [],
   "source": [
    "y_hap1 = dt.predict(x_test) # make predictions on the test set\n",
    "y_hapar1 = dt.predict(x_train) # make predictions on the test set"
   ]
  },
  {
   "cell_type": "code",
   "execution_count": null,
   "id": "e2d32592-da62-471a-8a5f-0e0b151aa481",
   "metadata": {},
   "outputs": [],
   "source": [
    "A1=accuracy_score(y_test,y_hap1)      # evaluation metrics for classification model\n",
    "A1   "
   ]
  },
  {
   "cell_type": "code",
   "execution_count": null,
   "id": "7e235939-98f7-4f21-84e3-f41cb003ce1c",
   "metadata": {},
   "outputs": [],
   "source": [
    "a1=accuracy_score(y_train,y_hapar1)     # evaluation metrics for classification model\n",
    "a1 "
   ]
  },
  {
   "cell_type": "code",
   "execution_count": null,
   "id": "07c7f762-e832-4385-a3e7-21e1917abf8d",
   "metadata": {},
   "outputs": [],
   "source": [
    "from sklearn.ensemble import ExtraTreesClassifier\n",
    "from sklearn.model_selection import GridSearchCV\n",
    "\n",
    "# Define parameter grid for ExtraTreesClassifier\n",
    "param_grid = {\n",
    "    'n_estimators': [50, 65, 80],\n",
    "    'max_depth': [5, 6, 7, 8, 9],\n",
    "    'max_features': ['auto', 'sqrt', 'log2'],\n",
    "    'min_samples_split': [2, 5, 10],\n",
    "    'min_samples_leaf': [1, 2, 4]\n",
    "}\n",
    "\n",
    "# Create ExtraTreesClassifier model\n",
    "ET_model = ExtraTreesClassifier(random_state=42)\n",
    "\n",
    "# Use GridSearchCV\n",
    "rcv = GridSearchCV(estimator=ET_model,\n",
    "                   param_grid=param_grid,\n",
    "                   scoring='f1',   # You can also use 'f1_macro' or 'accuracy' based on your need\n",
    "                   refit=True,\n",
    "                   cv=3,\n",
    "                   verbose=1,\n",
    "                   n_jobs=1)\n",
    "\n",
    "# Train model\n",
    "rcv.fit(x_train, y_train)\n",
    "\n",
    "# Get best parameters\n",
    "cv_best_params = rcv.best_params_\n",
    "print(f\"Best parameters: {cv_best_params}\")"
   ]
  },
  {
   "cell_type": "code",
   "execution_count": null,
   "id": "d34d6557-f8d7-4055-a24e-8987410f71a2",
   "metadata": {},
   "outputs": [],
   "source": [
    "ET1=ExtraTreesClassifier(max_features= 'sqrt', min_samples_leaf= 1, n_estimators=50, max_depth=5, min_samples_split=2)\n",
    "ET1.fit(x_train,y_train)#training  # train the model with training data"
   ]
  },
  {
   "cell_type": "code",
   "execution_count": null,
   "id": "45cdbcf3-6235-4dba-84e7-2548e1c68b10",
   "metadata": {},
   "outputs": [],
   "source": [
    "y_haper3 = ET1.predict(x_train)"
   ]
  },
  {
   "cell_type": "code",
   "execution_count": null,
   "id": "bf9f6a89-0d2f-4c1a-9eb3-c68b39978d63",
   "metadata": {},
   "outputs": [],
   "source": [
    "y_hap3= ET1.predict(x_test)                   # make predictions on the test set"
   ]
  },
  {
   "cell_type": "code",
   "execution_count": null,
   "id": "fa61c2e9-7af1-44f2-bfdf-93affa6ea1cd",
   "metadata": {},
   "outputs": [],
   "source": [
    "a3=accuracy_score(y_train,y_haper3)     # evaluation metrics for classification model\n",
    "a3                                  # Checking accuracy_score # evaluation metrics for classification model"
   ]
  },
  {
   "cell_type": "code",
   "execution_count": null,
   "id": "7d3ecaa8-98f1-4ebb-b167-1d7a974a55f9",
   "metadata": {},
   "outputs": [],
   "source": [
    "A3=accuracy_score(y_test,y_hap3)      # evaluation metrics for classification model\n",
    "A3                               # Checking accuracy_score # evaluation metrics for classification model"
   ]
  },
  {
   "cell_type": "code",
   "execution_count": null,
   "id": "f386818f-8c22-41e5-903d-f1e402b3cc6e",
   "metadata": {},
   "outputs": [],
   "source": [
    "# Define Parameters grid for learning_rate, max_depth, n_estimators\n",
    "param_grid = {\n",
    "    'learning_rate': [0.01, 0.03, 0.06, 0.1, 0.4, 0.5, 0.6, 0.7],\n",
    "    'max_depth': [5, 6, 7, 8, 9, 10],\n",
    "    'n_estimators': [50, 65, 80, 100],\n",
    "}\n",
    "GB=GradientBoostingClassifier()  # Assigning GradientBoostingClassifier model into variables\n",
    "\n",
    "rcv= GridSearchCV(estimator=GB, scoring='f1',refit = True,param_grid=param_grid, cv=5, \n",
    "                               verbose=2, n_jobs=-1)\n",
    "\n",
    "rcv.fit(x_train,y_train)##training data on randomsearch cv # train the model with training data\n",
    "cv_best_params = rcv.best_params_##it will give you best parameters "
   ]
  },
  {
   "cell_type": "code",
   "execution_count": null,
   "id": "495ebaf8-7b2d-4a45-b61b-0107ed1b7370",
   "metadata": {},
   "outputs": [],
   "source": [
    "print(f\"Best paramters: {cv_best_params})\")##printing  best parameters\""
   ]
  },
  {
   "cell_type": "code",
   "execution_count": null,
   "id": "9650b54c-5b87-4dcc-9697-54bc572ba24a",
   "metadata": {},
   "outputs": [],
   "source": [
    "GB2=GradientBoostingClassifier(n_estimators=100, max_depth=6, learning_rate=0.5)\n",
    "GB2.fit(x_train,y_train)#training  # train the model with training data"
   ]
  },
  {
   "cell_type": "code",
   "execution_count": null,
   "id": "89b18a40-8709-4b8b-99e4-26b8aa788d7c",
   "metadata": {},
   "outputs": [],
   "source": [
    "y_haper4 = GB2.predict(x_train) # make predictions on the test set\n",
    "y_hap4 = GB2.predict(x_test) # make predictions on the test set"
   ]
  },
  {
   "cell_type": "code",
   "execution_count": null,
   "id": "9352bb89-a6b7-4ebd-9605-8589ad5a9530",
   "metadata": {},
   "outputs": [],
   "source": [
    "a4=accuracy_score(y_train,y_haper4)      # evaluation metrics for classification model\n",
    "a4                                 # Checking accuracy_score # evaluation metrics for classification model"
   ]
  },
  {
   "cell_type": "code",
   "execution_count": null,
   "id": "7b23831c-e873-48ac-9063-0e314d93f04b",
   "metadata": {},
   "outputs": [],
   "source": [
    "A4=accuracy_score(y_test,y_hap4)     # evaluation metrics for classification model\n",
    "A4                                 # Checking accuracy_score # evaluation metrics for classification model"
   ]
  },
  {
   "cell_type": "code",
   "execution_count": null,
   "id": "168664e6-3a5a-4ef2-aee8-6751a89d0a63",
   "metadata": {},
   "outputs": [],
   "source": [
    "from itertools import product  # Importing the product function from itertools module\n",
    "param_grid = {\n",
    "    'C': [0.1, 1, 10, 100],     # Define the parameter grid\n",
    "    'gamma': ['scale', 'auto']}\n",
    "\n",
    "model6 = SVC()\n",
    "rscv6 = RandomizedSearchCV(model6,param_distributions=param_grid,refit=True,verbose=2,scoring=\"f1\",cv=3,n_iter=50,n_jobs=-1)\n",
    "rscv6.fit(x_train,y_train) # train the model with training data\n",
    "# grid6 = GridSearchCV(model6,param_grid=param_grid,refit=True,verbose=2,scoring=\"f1\",cv=3,n_jobs=-1)\n",
    "# grid6.fit(x_train,y_train) # train the model with training data"
   ]
  },
  {
   "cell_type": "code",
   "execution_count": null,
   "id": "e05770b8-497e-45eb-80d4-245f2b2e90f9",
   "metadata": {},
   "outputs": [],
   "source": [
    "print(rscv6.best_params_)"
   ]
  },
  {
   "cell_type": "code",
   "execution_count": null,
   "id": "c88447f4-9225-45de-92be-070feb96b66e",
   "metadata": {},
   "outputs": [],
   "source": [
    "y_hap6 = rscv6.predict(x_test) # make predictions on the test set\n",
    "y_haper6 = rscv6.predict(x_train) # make predictions on the test set"
   ]
  },
  {
   "cell_type": "code",
   "execution_count": null,
   "id": "86e6f21e-e85f-4144-85fd-bf24925f7de3",
   "metadata": {},
   "outputs": [],
   "source": [
    "a5=accuracy_score(y_train,y_haper6)     # Checking accuracy_score # evaluation metrics for classification model\n",
    "a5"
   ]
  },
  {
   "cell_type": "code",
   "execution_count": null,
   "id": "b7b2f395-6f5e-444f-a751-4cdda3576a05",
   "metadata": {},
   "outputs": [],
   "source": [
    "A5=accuracy_score(y_test,y_hap6)     # Checking accuracy_score # evaluation metrics for classification model\n",
    "A5"
   ]
  },
  {
   "cell_type": "code",
   "execution_count": null,
   "id": "4d58bf3d-7f26-47f9-87ac-f08160dc711e",
   "metadata": {},
   "outputs": [],
   "source": [
    "import pickle                             #Importing the pickle module\n",
    "with open('best_model.pkl', 'wb') as file:\n",
    "    pickle.dump(best_model, file)                      #save it to the file"
   ]
  },
  {
   "cell_type": "code",
   "execution_count": null,
   "id": "76a0bfc0-f60d-4b78-948d-fb116c1459f5",
   "metadata": {},
   "outputs": [],
   "source": [
    "with open(\"best_model.pkl\",\"rb\") as f:   #Open the file \"best_model.pkl\" in read-binary mode\n",
    "  model=pickle.load(f)"
   ]
  },
  {
   "cell_type": "code",
   "execution_count": null,
   "id": "c961fc20-7a4d-4d8b-8ce4-31f3dc378efc",
   "metadata": {},
   "outputs": [],
   "source": [
    "model"
   ]
  },
  {
   "cell_type": "markdown",
   "id": "ed15a75d-c047-4bdd-8e60-6193fc6c54f2",
   "metadata": {},
   "source": [
    "# Model Comparision Report"
   ]
  },
  {
   "cell_type": "markdown",
   "id": "53b7dbd7-c15a-45b1-83c2-3bb6040689ac",
   "metadata": {},
   "source": [
    "* Best Overall Model: Support Vector Machine (SVM) – It consistently delivers the highest accuracy (~80%), making it the most effective for this dataset.\n",
    "\n",
    "* Neural Network (MLPClassifier) and Logistic Regression are also excellent choices, especially for scalable and fast deployment.\n",
    "\n",
    "* For applications needing model explainability or lower computational cost, Logistic Regression and Decision Tree remain viable options.\n",
    "\n"
   ]
  },
  {
   "cell_type": "markdown",
   "id": "79b9af3b-ebc7-4686-a4da-3974508ca844",
   "metadata": {},
   "source": [
    "#  Problems Faced with the Blood Donation Dataset\n",
    "\n",
    "While working with the `Warm_Up_Predict_Blood_Donations` dataset, several issues were identified that could potentially impact model training and evaluation:\n",
    "\n",
    "###  Irregular Column Naming\n",
    "- Column names contain **leading/trailing spaces**, which can cause bugs or confusion in code.\n",
    "- Solution: Applied `df.columns.str.strip()` to clean column names.\n",
    "\n",
    "\n",
    "###  Redundant Feature\n",
    "- The feature `Total Volume Donated (c.c.)` is a **linear multiple** of `Number of Donations` (i.e., Volume = Donations × 250).\n",
    "- This redundancy adds no value and can cause **multicollinearity** issues in some models.\n",
    "- Solution: Dropped the redundant volume column.\n",
    "\n",
    "### Class Imbalance\n",
    "- The target variable `Made Donation in March 2007` is highly **imbalanced**:\n",
    "  - Only ~24% of the samples are positive cases.\n",
    "- This can lead to:\n",
    "  - Biased models favoring the majority class.\n",
    "  - Inflated accuracy with poor recall for the minority class.\n",
    "- Suggested Actions:\n",
    "  - Use **stratified sampling** for train-test split.\n",
    "  - Apply **resampling techniques** like SMOTE or RandomOverSampler.\n",
    "  - Prefer metrics like **F1-score**, **AUC**, and **Recall** over plain accuracy."
   ]
  },
  {
   "cell_type": "markdown",
   "id": "8a98ab8e-026c-41d8-a05a-2504c68bdba7",
   "metadata": {},
   "source": [
    "# Suggestions to Blood Donation Centers for Predictive Modeling and Donor Engagement\n",
    "\n",
    "* **Targeted Donor Outreach**: Using predictive models, organizations can identify individuals most likely to donate again. This helps in focusing communication and reminders on high-probability donors, improving efficiency and reducing outreach costs.\n",
    "\n",
    "* **Donation Frequency Monitoring**: By analyzing trends in individual donor histories, centers can monitor donation gaps and predict when a donor might be ready to donate again—enabling timely and personalized reminders.\n",
    "\n",
    "* **Real-Time Integration with Health Systems**: If integrated with health records or donor apps, real-time updates on donor eligibility, last donation, and follow-up could be enabled—making the donation process smoother and more informed.\n",
    "\n",
    "* **Predictive Resource Planning**: Forecasting donor turnout using models allows better planning of blood collection drives, staffing, and resource allocation—especially during emergencies or seasonal shortages.\n",
    "\n",
    "* **Model Explainability for Transparency**: Implementing explainable AI tools like **SHAP** or **LIME** can help healthcare staff understand why a donor is predicted to return (or not), making the model more transparent and decisions more actionable.\n",
    "\n",
    "* **Feedback Loop and Continuous Learning**: Collecting outcomes from each drive and donation attempt enables continuous retraining and improvement of the prediction model, adapting to new patterns in donor behavior."
   ]
  },
  {
   "cell_type": "code",
   "execution_count": null,
   "id": "71d5a150-0700-4346-ba75-fe010654e0cc",
   "metadata": {},
   "outputs": [],
   "source": []
  }
 ],
 "metadata": {
  "kernelspec": {
   "display_name": "Python 3 (ipykernel)",
   "language": "python",
   "name": "python3"
  },
  "language_info": {
   "codemirror_mode": {
    "name": "ipython",
    "version": 3
   },
   "file_extension": ".py",
   "mimetype": "text/x-python",
   "name": "python",
   "nbconvert_exporter": "python",
   "pygments_lexer": "ipython3",
   "version": "3.13.5"
  }
 },
 "nbformat": 4,
 "nbformat_minor": 5
}
